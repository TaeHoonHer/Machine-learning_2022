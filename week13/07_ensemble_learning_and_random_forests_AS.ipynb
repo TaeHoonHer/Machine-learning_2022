{
 "cells": [
  {
   "cell_type": "markdown",
   "metadata": {
    "id": "HuUlpjYv_Sl5"
   },
   "source": [
    "# **7장 – 앙상블 학습과 랜덤 포레스트**"
   ]
  },
  {
   "cell_type": "markdown",
   "metadata": {},
   "source": [
    "## 20205274 허태훈"
   ]
  },
  {
   "cell_type": "markdown",
   "metadata": {
    "id": "aL6peuyu_Sl8"
   },
   "source": [
    "# 설정"
   ]
  },
  {
   "cell_type": "markdown",
   "metadata": {
    "id": "tlEauHYT_Sl8"
   },
   "source": [
    "먼저 몇 개의 모듈을 임포트합니다. 맷플롯립 그래프를 인라인으로 출력하도록 만들고 그림을 저장하는 함수를 준비합니다. 또한 파이썬 버전이 3.5 이상인지 확인합니다(파이썬 2.x에서도 동작하지만 곧 지원이 중단되므로 파이썬 3을 사용하는 것이 좋습니다). 사이킷런 버전이 0.20 이상인지도 확인합니다."
   ]
  },
  {
   "cell_type": "code",
   "execution_count": 1,
   "metadata": {
    "id": "0spkxGcB_Sl9"
   },
   "outputs": [],
   "source": [
    "# 파이썬 ≥3.5 필수\n",
    "import sys\n",
    "assert sys.version_info >= (3, 5)\n",
    "\n",
    "# 사이킷런 ≥0.20 필수\n",
    "import sklearn\n",
    "assert sklearn.__version__ >= \"0.20\"\n",
    "\n",
    "# 공통 모듈 임포트\n",
    "import numpy as np\n",
    "import os\n",
    "\n",
    "# 노트북 실행 결과를 동일하게 유지하기 위해\n",
    "np.random.seed(42)\n",
    "\n",
    "# 깔끔한 그래프 출력을 위해\n",
    "%matplotlib inline\n",
    "import matplotlib as mpl\n",
    "import matplotlib.pyplot as plt\n",
    "mpl.rc('axes', labelsize=14)\n",
    "mpl.rc('xtick', labelsize=12)\n",
    "mpl.rc('ytick', labelsize=12)\n",
    "\n",
    "# 그림을 저장할 위치\n",
    "PROJECT_ROOT_DIR = \".\"\n",
    "CHAPTER_ID = \"ensembles\"\n",
    "IMAGES_PATH = os.path.join(PROJECT_ROOT_DIR, \"images\", CHAPTER_ID)\n",
    "os.makedirs(IMAGES_PATH, exist_ok=True)\n",
    "\n",
    "def save_fig(fig_id, tight_layout=True, fig_extension=\"png\", resolution=300):\n",
    "    path = os.path.join(IMAGES_PATH, fig_id + \".\" + fig_extension)\n",
    "    print(\"그림 저장:\", fig_id)\n",
    "    if tight_layout:\n",
    "        plt.tight_layout()\n",
    "    plt.savefig(path, format=fig_extension, dpi=resolution)"
   ]
  },
  {
   "cell_type": "markdown",
   "metadata": {
    "id": "iJdOOsKy_SmC"
   },
   "source": [
    "# 투표기반 분류기"
   ]
  },
  {
   "cell_type": "code",
   "execution_count": 2,
   "metadata": {
    "colab": {
     "base_uri": "https://localhost:8080/"
    },
    "executionInfo": {
     "elapsed": 1634,
     "status": "ok",
     "timestamp": 1604790031659,
     "user": {
      "displayName": "BaekSop Kim",
      "photoUrl": "",
      "userId": "00248997446886296444"
     },
     "user_tz": -540
    },
    "id": "UJAnk3kfmT2r",
    "outputId": "f1d4926c-da81-4694-e25c-2f1e1170471c"
   },
   "outputs": [
    {
     "name": "stdout",
     "output_type": "stream",
     "text": [
      "a3 : 0.5149980000000001\n",
      "a10 : 0.6473972327703659\n",
      "a100 : 0.6180787124933074\n",
      "a1000 : 0.7467502275563249\n",
      "a1000_55 : 0.9993191913375663\n",
      "a10000 : 0.9777976478701103\n"
     ]
    }
   ],
   "source": [
    "# 앞면 나올 확률이 0.51인 동전 1000번 던져 앞면이 더 많이 나올 확률\n",
    "from scipy.stats import binom\n",
    "a3 = 1-binom.cdf(1,3, 0.51)\n",
    "print('a3 :', a3)\n",
    "a10 = 1-binom.cdf(4,10, 0.51)\n",
    "print('a10 :', a10)\n",
    "a100 = 1-binom.cdf(49,100, 0.51)\n",
    "print('a100 :', a100)\n",
    "a1000 = 1-binom.cdf(499,1000, 0.51)\n",
    "print('a1000 :', a1000)\n",
    "a1000_55 = 1-binom.cdf(499,1000, 0.55)\n",
    "print('a1000_55 :', a1000_55)\n",
    "a10000 = 1-binom.cdf(4999,10000, 0.51)\n",
    "print('a10000 :', a10000)"
   ]
  },
  {
   "cell_type": "code",
   "execution_count": 3,
   "metadata": {
    "colab": {
     "base_uri": "https://localhost:8080/"
    },
    "executionInfo": {
     "elapsed": 1742,
     "status": "ok",
     "timestamp": 1604488730516,
     "user": {
      "displayName": "BaekSop Kim",
      "photoUrl": "",
      "userId": "00248997446886296444"
     },
     "user_tz": -540
    },
    "id": "Z7jGlBPT_SmK",
    "outputId": "74be740e-eda3-4bfc-816a-34ac0a5ad414"
   },
   "outputs": [
    {
     "name": "stdout",
     "output_type": "stream",
     "text": [
      "LogisticRegression 0.864\n",
      "RandomForestClassifier 0.896\n",
      "SVC 0.896\n",
      "VotingClassifier 0.912\n"
     ]
    }
   ],
   "source": [
    "# 세가지 분류기로 다수결 분류기 만들기.  \n",
    "\n",
    "# make_moons 데이터 사용\n",
    "from sklearn.model_selection import train_test_split\n",
    "from sklearn.datasets import make_moons\n",
    "\n",
    "X, y = make_moons(n_samples=500, noise=0.30, random_state=42)\n",
    "X_train, X_test, y_train, y_test = train_test_split(X, y, random_state=42)\n",
    "\n",
    "# 분류기 생성\n",
    "from sklearn.ensemble import RandomForestClassifier\n",
    "from sklearn.ensemble import VotingClassifier\n",
    "from sklearn.linear_model import LogisticRegression\n",
    "from sklearn.svm import SVC\n",
    "\n",
    "log_clf = LogisticRegression(random_state=42)\n",
    "rnd_clf = RandomForestClassifier(random_state=42)\n",
    "svm_clf = SVC(random_state=42)\n",
    "\n",
    "voting_clf = VotingClassifier(\n",
    "    estimators=[('lr', log_clf), ('rf', rnd_clf), ('svc', svm_clf)],\n",
    "    voting='hard')\n",
    "\n",
    "# 학습, 정확도 계산\n",
    "from sklearn.metrics import accuracy_score\n",
    "\n",
    "for clf in (log_clf, rnd_clf, svm_clf, voting_clf):\n",
    "    clf.fit(X_train, y_train)\n",
    "    y_pred = clf.predict(X_test)\n",
    "    print(clf.__class__.__name__, accuracy_score(y_test, y_pred))\n"
   ]
  },
  {
   "cell_type": "markdown",
   "metadata": {
    "id": "TWBLlpxA_SmY"
   },
   "source": [
    "Soft Voting (간접 투표) : 각 분류기의 클래스 확률을 평균내서 가장 높은 클래스로 분류"
   ]
  },
  {
   "cell_type": "code",
   "execution_count": 4,
   "metadata": {
    "colab": {
     "base_uri": "https://localhost:8080/"
    },
    "executionInfo": {
     "elapsed": 2571,
     "status": "ok",
     "timestamp": 1604488731365,
     "user": {
      "displayName": "BaekSop Kim",
      "photoUrl": "",
      "userId": "00248997446886296444"
     },
     "user_tz": -540
    },
    "id": "vq7KLp9Y_SmZ",
    "outputId": "499bdee9-685d-494b-bf64-a7b1e39e4e71"
   },
   "outputs": [
    {
     "name": "stdout",
     "output_type": "stream",
     "text": [
      "LogisticRegression 0.864\n",
      "RandomForestClassifier 0.896\n",
      "SVC 0.896\n",
      "VotingClassifier 0.92\n"
     ]
    }
   ],
   "source": [
    "log_clf = LogisticRegression(random_state=42)\n",
    "rnd_clf = RandomForestClassifier(random_state=42)\n",
    "svm_clf = SVC(probability=True, random_state=42)  # SVC는 probability=True로 해야 predict_proba()사용할 수 있음\n",
    "\n",
    "voting_clf = VotingClassifier(\n",
    "    estimators=[('lr', log_clf), ('rf', rnd_clf), ('svc', svm_clf)],\n",
    "    voting='soft')\n",
    "\n",
    "from sklearn.metrics import accuracy_score\n",
    "\n",
    "for clf in (log_clf, rnd_clf, svm_clf, voting_clf):\n",
    "    clf.fit(X_train, y_train)\n",
    "    y_pred = clf.predict(X_test)\n",
    "    print(clf.__class__.__name__, accuracy_score(y_test, y_pred))"
   ]
  },
  {
   "cell_type": "markdown",
   "metadata": {
    "id": "rcbxnm6S_Smi"
   },
   "source": [
    "# 배깅 앙상블"
   ]
  },
  {
   "cell_type": "code",
   "execution_count": 5,
   "metadata": {
    "colab": {
     "base_uri": "https://localhost:8080/"
    },
    "executionInfo": {
     "elapsed": 2863,
     "status": "ok",
     "timestamp": 1604488731673,
     "user": {
      "displayName": "BaekSop Kim",
      "photoUrl": "",
      "userId": "00248997446886296444"
     },
     "user_tz": -540
    },
    "id": "6LZzSwke_Smi",
    "outputId": "69180ca7-c668-478a-fd9b-07f6af93c7cb"
   },
   "outputs": [
    {
     "name": "stdout",
     "output_type": "stream",
     "text": [
      "0.904\n"
     ]
    }
   ],
   "source": [
    "# decision tree classifier 500개를 배깅 \n",
    "from sklearn.ensemble import BaggingClassifier\n",
    "from sklearn.tree import DecisionTreeClassifier\n",
    "\n",
    "bag_clf = BaggingClassifier(\n",
    "    DecisionTreeClassifier(random_state=42), n_estimators=500,\n",
    "    max_samples=100, bootstrap=True, random_state=42)\n",
    "bag_clf.fit(X_train, y_train)\n",
    "y_pred = bag_clf.predict(X_test)\n",
    "\n",
    "from sklearn.metrics import accuracy_score\n",
    "print(accuracy_score(y_test, y_pred))"
   ]
  },
  {
   "cell_type": "code",
   "execution_count": 6,
   "metadata": {
    "colab": {
     "base_uri": "https://localhost:8080/"
    },
    "executionInfo": {
     "elapsed": 2849,
     "status": "ok",
     "timestamp": 1604488731674,
     "user": {
      "displayName": "BaekSop Kim",
      "photoUrl": "",
      "userId": "00248997446886296444"
     },
     "user_tz": -540
    },
    "id": "yESXZPDl_Smo",
    "outputId": "5ea7503d-a3d1-4a68-8bfd-69053a0e3020"
   },
   "outputs": [
    {
     "name": "stdout",
     "output_type": "stream",
     "text": [
      "0.856\n"
     ]
    }
   ],
   "source": [
    "# decision tree classifier 1개만 사용한 경우\n",
    "tree_clf = DecisionTreeClassifier(random_state=42)\n",
    "tree_clf.fit(X_train, y_train)\n",
    "y_pred_tree = tree_clf.predict(X_test)\n",
    "print(accuracy_score(y_test, y_pred_tree))"
   ]
  },
  {
   "cell_type": "code",
   "execution_count": 7,
   "metadata": {
    "colab": {
     "base_uri": "https://localhost:8080/",
     "height": 325
    },
    "executionInfo": {
     "elapsed": 3796,
     "status": "ok",
     "timestamp": 1604488732639,
     "user": {
      "displayName": "BaekSop Kim",
      "photoUrl": "",
      "userId": "00248997446886296444"
     },
     "user_tz": -540
    },
    "id": "Nkk7EB2q_Smr",
    "outputId": "ee57e52e-6b3b-40e4-b32b-ed6fdd608501"
   },
   "outputs": [
    {
     "data": {
      "text/plain": [
       "Text(0, 0.5, '')"
      ]
     },
     "execution_count": 7,
     "metadata": {},
     "output_type": "execute_result"
    },
    {
     "data": {
      "image/png": "[encoded data removed]",
      "text/plain": [
       "<Figure size 720x288 with 2 Axes>"
      ]
     },
     "metadata": {
      "needs_background": "light"
     },
     "output_type": "display_data"
    }
   ],
   "source": [
    "# 배깅과 단순 분류기와 결정경계 시각화\n",
    "\n",
    "from matplotlib.colors import ListedColormap\n",
    "import matplotlib.pyplot as plt\n",
    "import numpy as np\n",
    "\n",
    "def plot_decision_boundary(clf, X, y, axes=[-1.5, 2.45, -1, 1.5], alpha=0.5, contour=True):\n",
    "    x1s = np.linspace(axes[0], axes[1], 100)\n",
    "    x2s = np.linspace(axes[2], axes[3], 100)\n",
    "    x1, x2 = np.meshgrid(x1s, x2s)\n",
    "    X_new = np.c_[x1.ravel(), x2.ravel()]\n",
    "    y_pred = clf.predict(X_new).reshape(x1.shape)\n",
    "    custom_cmap = ListedColormap(['#fafab0','#9898ff','#a0faa0'])\n",
    "    plt.contourf(x1, x2, y_pred, alpha=0.3, cmap=custom_cmap)\n",
    "    if contour:\n",
    "        custom_cmap2 = ListedColormap(['#7d7d58','#4c4c7f','#507d50'])\n",
    "        plt.contour(x1, x2, y_pred, cmap=custom_cmap2, alpha=0.8)\n",
    "    plt.plot(X[:, 0][y==0], X[:, 1][y==0], \"yo\", alpha=alpha)\n",
    "    plt.plot(X[:, 0][y==1], X[:, 1][y==1], \"bs\", alpha=alpha)\n",
    "    plt.axis(axes)\n",
    "    plt.xlabel(r\"$x_1$\", fontsize=18)\n",
    "    plt.ylabel(r\"$x_2$\", fontsize=18, rotation=0)\n",
    "\n",
    "fix, axes = plt.subplots(ncols=2, figsize=(10,4), sharey=True)\n",
    "plt.sca(axes[0])\n",
    "plot_decision_boundary(tree_clf, X, y)\n",
    "plt.title(\"Decision Tree\", fontsize=14)\n",
    "plt.sca(axes[1])\n",
    "plot_decision_boundary(bag_clf, X, y)\n",
    "plt.title(\"Decision Trees with Bagging\", fontsize=14)\n",
    "plt.ylabel(\"\")\n"
   ]
  },
  {
   "cell_type": "markdown",
   "metadata": {
    "id": "mtI_q64e_Smx"
   },
   "source": [
    "# 랜덤 포레스트"
   ]
  },
  {
   "cell_type": "code",
   "execution_count": 8,
   "metadata": {
    "colab": {
     "base_uri": "https://localhost:8080/"
    },
    "executionInfo": {
     "elapsed": 4654,
     "status": "ok",
     "timestamp": 1604488733515,
     "user": {
      "displayName": "BaekSop Kim",
      "photoUrl": "",
      "userId": "00248997446886296444"
     },
     "user_tz": -540
    },
    "id": "xUIyLhud_Sm4",
    "outputId": "31667c34-7591-48e1-cd5f-4a61b4aeb7cb"
   },
   "outputs": [
    {
     "name": "stdout",
     "output_type": "stream",
     "text": [
      "0.912\n"
     ]
    }
   ],
   "source": [
    "from sklearn.ensemble import RandomForestClassifier\n",
    "\n",
    "rnd_clf = RandomForestClassifier(n_estimators=500, max_leaf_nodes=16, random_state=42)\n",
    "rnd_clf.fit(X_train, y_train)\n",
    "\n",
    "y_pred_rf = rnd_clf.predict(X_test)\n",
    "print(accuracy_score(y_test, y_pred_rf))"
   ]
  },
  {
   "cell_type": "code",
   "execution_count": 9,
   "metadata": {
    "colab": {
     "base_uri": "https://localhost:8080/",
     "height": 325
    },
    "executionInfo": {
     "elapsed": 5295,
     "status": "ok",
     "timestamp": 1604488734174,
     "user": {
      "displayName": "BaekSop Kim",
      "photoUrl": "",
      "userId": "00248997446886296444"
     },
     "user_tz": -540
    },
    "id": "Mb_74VPqNE5Z",
    "outputId": "5a23a4e6-ccfe-42a1-b9e9-534e4530fdbd"
   },
   "outputs": [
    {
     "data": {
      "text/plain": [
       "Text(0.5, 1.0, 'Random Forest')"
      ]
     },
     "execution_count": 9,
     "metadata": {},
     "output_type": "execute_result"
    },
    {
     "data": {
      "image/png": "[encoded data removed]",
      "text/plain": [
       "<Figure size 432x288 with 1 Axes>"
      ]
     },
     "metadata": {
      "needs_background": "light"
     },
     "output_type": "display_data"
    }
   ],
   "source": [
    "# 랜덤포리스트로 학습한 결정경계 시각화.  위 Bagging wiht DecisionTree 와 비슷\n",
    "plot_decision_boundary(rnd_clf, X, y)\n",
    "plt.title(\"Random Forest\", fontsize=14)"
   ]
  },
  {
   "cell_type": "code",
   "execution_count": 10,
   "metadata": {
    "colab": {
     "base_uri": "https://localhost:8080/"
    },
    "executionInfo": {
     "elapsed": 5983,
     "status": "ok",
     "timestamp": 1604488734878,
     "user": {
      "displayName": "BaekSop Kim",
      "photoUrl": "",
      "userId": "00248997446886296444"
     },
     "user_tz": -540
    },
    "id": "1L8P8Lo0_Sm_",
    "outputId": "fe101f8a-ad0c-4e11-bd4d-225820508ed1"
   },
   "outputs": [
    {
     "name": "stdout",
     "output_type": "stream",
     "text": [
      "sepal length (cm) 0.11249225099876375\n",
      "sepal width (cm) 0.02311928828251033\n",
      "petal length (cm) 0.4410304643639577\n",
      "petal width (cm) 0.4233579963547682\n"
     ]
    }
   ],
   "source": [
    "# 특징 중요도를 알 수 있음 : feature_importances_\n",
    "from sklearn.datasets import load_iris\n",
    "iris = load_iris()\n",
    "rnd_clf_iris = RandomForestClassifier(n_estimators=500, random_state=42)\n",
    "rnd_clf_iris.fit(iris[\"data\"], iris[\"target\"])\n",
    "for name, score in zip(iris[\"feature_names\"], rnd_clf_iris.feature_importances_):\n",
    "    print(name, score)"
   ]
  },
  {
   "cell_type": "markdown",
   "metadata": {
    "id": "Z0JdqJ07_SnK"
   },
   "source": [
    "## OOB 평가"
   ]
  },
  {
   "cell_type": "code",
   "execution_count": 11,
   "metadata": {
    "colab": {
     "base_uri": "https://localhost:8080/"
    },
    "executionInfo": {
     "elapsed": 7453,
     "status": "ok",
     "timestamp": 1604488736363,
     "user": {
      "displayName": "BaekSop Kim",
      "photoUrl": "",
      "userId": "00248997446886296444"
     },
     "user_tz": -540
    },
    "id": "Fm9ctAtg_SnL",
    "outputId": "59b118c3-c106-4d76-bf4d-6dcfed162d8e"
   },
   "outputs": [
    {
     "name": "stdout",
     "output_type": "stream",
     "text": [
      "Bagging oob_score_ : 0.8986666666666666\n",
      "RandomForest oob_score_ : 0.904\n"
     ]
    }
   ],
   "source": [
    "# BaggingClassifier학습과정에서 out-of-bag 샘플들 평가까지 함\n",
    "bag_clf = BaggingClassifier(\n",
    "    DecisionTreeClassifier(random_state=42), n_estimators=500,\n",
    "    bootstrap=True, oob_score=True, random_state=40)\n",
    "bag_clf.fit(X_train, y_train)\n",
    "print('Bagging oob_score_ :', bag_clf.oob_score_)\n",
    "\n",
    "# RandomForest도 oob_score 가능\n",
    "rnd_clf = RandomForestClassifier(n_estimators=500, oob_score=True, random_state=42)\n",
    "rnd_clf.fit(X_train, y_train)\n",
    "print('RandomForest oob_score_ :', rnd_clf.oob_score_)"
   ]
  },
  {
   "cell_type": "code",
   "execution_count": 12,
   "metadata": {
    "colab": {
     "base_uri": "https://localhost:8080/"
    },
    "executionInfo": {
     "elapsed": 7439,
     "status": "ok",
     "timestamp": 1604488736364,
     "user": {
      "displayName": "BaekSop Kim",
      "photoUrl": "",
      "userId": "00248997446886296444"
     },
     "user_tz": -540
    },
    "id": "YfgrCWe5_SnT",
    "outputId": "8b206df4-ae34-4e6d-efc2-dcd87b3ea1fb"
   },
   "outputs": [
    {
     "name": "stdout",
     "output_type": "stream",
     "text": [
      "test샘플에 대한 정확도 : 0.912\n",
      "train샘플에 대한 정확도 : 1.0\n"
     ]
    }
   ],
   "source": [
    "# oob 평가는 test샘플 평가와 비슷한 결과 (train샘플에 대한 평가와는 매우 다름)\n",
    "from sklearn.metrics import accuracy_score\n",
    "y_pred = bag_clf.predict(X_test)\n",
    "print('test샘플에 대한 정확도 :', accuracy_score(y_test, y_pred))\n",
    "\n",
    "y_pred_tra = bag_clf.predict(X_train)\n",
    "print('train샘플에 대한 정확도 :', accuracy_score(y_train, y_pred_tra))"
   ]
  },
  {
   "cell_type": "code",
   "execution_count": 13,
   "metadata": {
    "colab": {
     "base_uri": "https://localhost:8080/"
    },
    "executionInfo": {
     "elapsed": 7428,
     "status": "ok",
     "timestamp": 1604488736371,
     "user": {
      "displayName": "BaekSop Kim",
      "photoUrl": "",
      "userId": "00248997446886296444"
     },
     "user_tz": -540
    },
    "id": "Yhs5BUgO_SnP",
    "outputId": "2376b54d-d62b-4a04-97ff-11132c17bd60"
   },
   "outputs": [
    {
     "data": {
      "text/plain": [
       "array([[0.32275132, 0.67724868],\n",
       "       [0.34117647, 0.65882353],\n",
       "       [1.        , 0.        ],\n",
       "       [0.        , 1.        ],\n",
       "       [0.        , 1.        ]])"
      ]
     },
     "execution_count": 13,
     "metadata": {},
     "output_type": "execute_result"
    }
   ],
   "source": [
    "# oob decision function을 알 수도 있음\n",
    "bag_clf.oob_decision_function_[:5]"
   ]
  },
  {
   "cell_type": "markdown",
   "metadata": {
    "id": "KVWeLi7z_SnY"
   },
   "source": [
    "## MNIST 데이터 특성 중요도 시각화"
   ]
  },
  {
   "cell_type": "code",
   "execution_count": 14,
   "metadata": {
    "colab": {
     "base_uri": "https://localhost:8080/"
    },
    "executionInfo": {
     "elapsed": 94918,
     "status": "ok",
     "timestamp": 1604488823878,
     "user": {
      "displayName": "BaekSop Kim",
      "photoUrl": "",
      "userId": "00248997446886296444"
     },
     "user_tz": -540
    },
    "id": "1jzSOt6f_SnZ",
    "outputId": "cde907fd-3790-4d88-c3da-652aee57ec98"
   },
   "outputs": [
    {
     "data": {
      "text/plain": [
       "RandomForestClassifier(random_state=42)"
      ]
     },
     "execution_count": 14,
     "metadata": {},
     "output_type": "execute_result"
    }
   ],
   "source": [
    "# MNIST 데이터 학습\n",
    "from sklearn.datasets import fetch_openml\n",
    "\n",
    "mnist = fetch_openml('mnist_784', version=1)\n",
    "mnist.target = mnist.target.astype(np.uint8)\n",
    "\n",
    "rnd_clf = RandomForestClassifier(n_estimators=100, random_state=42)\n",
    "rnd_clf.fit(mnist[\"data\"], mnist[\"target\"])\n"
   ]
  },
  {
   "cell_type": "code",
   "execution_count": 15,
   "metadata": {
    "colab": {
     "base_uri": "https://localhost:8080/",
     "height": 279
    },
    "executionInfo": {
     "elapsed": 94908,
     "status": "ok",
     "timestamp": 1604488823886,
     "user": {
      "displayName": "BaekSop Kim",
      "photoUrl": "",
      "userId": "00248997446886296444"
     },
     "user_tz": -540
    },
    "id": "LNq1gbI6_Snf",
    "outputId": "d95300e5-44b9-431a-a150-54e5e5a6ad19"
   },
   "outputs": [
    {
     "data": {
      "text/plain": [
       "[Text(1, 0.0, 'Not important'),\n",
       " Text(1, 0.009791489757332336, 'Very important')]"
      ]
     },
     "execution_count": 15,
     "metadata": {},
     "output_type": "execute_result"
    },
    {
     "data": {
      "image/png": "[encoded data removed]",
      "text/plain": [
       "<Figure size 432x288 with 2 Axes>"
      ]
     },
     "metadata": {
      "needs_background": "light"
     },
     "output_type": "display_data"
    }
   ],
   "source": [
    "# 시각화\n",
    "import matplotlib as mpl\n",
    "def plot_digit(data):\n",
    "    image = data.reshape(28, 28)\n",
    "    plt.imshow(image, cmap = mpl.cm.hot, interpolation=\"nearest\")\n",
    "    plt.axis(\"off\")\n",
    "\n",
    "plot_digit(rnd_clf.feature_importances_)\n",
    "\n",
    "cbar = plt.colorbar(ticks=[rnd_clf.feature_importances_.min(), rnd_clf.feature_importances_.max()])\n",
    "cbar.ax.set_yticklabels(['Not important', 'Very important'])\n",
    "  "
   ]
  },
  {
   "cell_type": "markdown",
   "metadata": {
    "id": "q8m4Orzf_Snl"
   },
   "source": [
    "# 에이다부스트"
   ]
  },
  {
   "cell_type": "code",
   "execution_count": 16,
   "metadata": {
    "colab": {
     "base_uri": "https://localhost:8080/"
    },
    "executionInfo": {
     "elapsed": 95121,
     "status": "ok",
     "timestamp": 1604488824115,
     "user": {
      "displayName": "BaekSop Kim",
      "photoUrl": "",
      "userId": "00248997446886296444"
     },
     "user_tz": -540
    },
    "id": "PvUc7Wz7_Snn",
    "outputId": "2e38f5c8-0866-4960-a5dd-3f71d871c2c8"
   },
   "outputs": [
    {
     "name": "stdout",
     "output_type": "stream",
     "text": [
      "n_estimators=200. training샘플 정확도 : 0.968 , test샘플 정확도 : 0.896\n",
      "n_estimaors=100. training샘플 정확도 : 0.96 , test샘플 정확도 : 0.912\n"
     ]
    }
   ],
   "source": [
    "X, y = make_moons(n_samples=500, noise=0.30, random_state=42)\n",
    "X_train, X_test, y_train, y_test = train_test_split(X, y, random_state=42)\n",
    "\n",
    "from sklearn.ensemble import AdaBoostClassifier\n",
    "\n",
    "ada_clf = AdaBoostClassifier(\n",
    "    DecisionTreeClassifier(max_depth=1), n_estimators=200,\n",
    "    algorithm=\"SAMME.R\", learning_rate=0.5, random_state=42)\n",
    "ada_clf.fit(X_train, y_train)\n",
    "y_pred_tra = ada_clf.predict(X_train)\n",
    "y_pred = ada_clf.predict(X_test)\n",
    "print('n_estimators=200. training샘플 정확도 :', accuracy_score(y_train, y_pred_tra), ', test샘플 정확도 :', accuracy_score(y_test, y_pred))\n",
    "\n",
    "ada_clf = AdaBoostClassifier(\n",
    "    DecisionTreeClassifier(max_depth=1), n_estimators=100,\n",
    "    algorithm=\"SAMME.R\", learning_rate=0.5, random_state=42)\n",
    "ada_clf.fit(X_train, y_train)\n",
    "y_pred_tra = ada_clf.predict(X_train)\n",
    "y_pred = ada_clf.predict(X_test)\n",
    "print('n_estimaors=100. training샘플 정확도 :', accuracy_score(y_train, y_pred_tra), ', test샘플 정확도 :', accuracy_score(y_test, y_pred))"
   ]
  },
  {
   "cell_type": "code",
   "execution_count": 17,
   "metadata": {
    "colab": {
     "base_uri": "https://localhost:8080/",
     "height": 295
    },
    "executionInfo": {
     "elapsed": 95684,
     "status": "ok",
     "timestamp": 1604488824696,
     "user": {
      "displayName": "BaekSop Kim",
      "photoUrl": "",
      "userId": "00248997446886296444"
     },
     "user_tz": -540
    },
    "id": "380eXPZg_Snq",
    "outputId": "c70074ce-56d5-473b-8bb4-a1e4835c7491"
   },
   "outputs": [
    {
     "data": {
      "image/png": "[encoded data removed]",
      "text/plain": [
       "<Figure size 432x288 with 1 Axes>"
      ]
     },
     "metadata": {
      "needs_background": "light"
     },
     "output_type": "display_data"
    }
   ],
   "source": [
    "plot_decision_boundary(ada_clf, X, y)"
   ]
  },
  {
   "cell_type": "markdown",
   "metadata": {
    "id": "o7LHNFuK_Sny"
   },
   "source": [
    "# 그레이디언트 부스팅"
   ]
  },
  {
   "cell_type": "code",
   "execution_count": 18,
   "metadata": {
    "colab": {
     "base_uri": "https://localhost:8080/",
     "height": 291
    },
    "executionInfo": {
     "elapsed": 815,
     "status": "ok",
     "timestamp": 1669076572998,
     "user": {
      "displayName": "BaekSop Kim",
      "userId": "00248997446886296444"
     },
     "user_tz": -540
    },
    "id": "MkM-fp4G_Sny",
    "outputId": "03b93ebd-63d7-424f-a8b8-3ab436c11d47"
   },
   "outputs": [
    {
     "data": {
      "text/plain": [
       "[<matplotlib.lines.Line2D at 0x16dae1b9df0>]"
      ]
     },
     "execution_count": 18,
     "metadata": {},
     "output_type": "execute_result"
    },
    {
     "data": {
      "image/png": "[encoded data removed]",
      "text/plain": [
       "<Figure size 432x288 with 1 Axes>"
      ]
     },
     "metadata": {
      "needs_background": "light"
     },
     "output_type": "display_data"
    }
   ],
   "source": [
    "np.random.seed(42)\n",
    "X = np.random.rand(100, 1) - 0.5\n",
    "y = 3*X[:, 0]**2 + 0.05 * np.random.randn(100)\n",
    "\n",
    "plt.plot(X, y, '.')"
   ]
  },
  {
   "cell_type": "code",
   "execution_count": 19,
   "metadata": {
    "colab": {
     "base_uri": "https://localhost:8080/"
    },
    "executionInfo": {
     "elapsed": 716,
     "status": "ok",
     "timestamp": 1604489064045,
     "user": {
      "displayName": "BaekSop Kim",
      "photoUrl": "",
      "userId": "00248997446886296444"
     },
     "user_tz": -540
    },
    "id": "HC0q5deg_Sn1",
    "outputId": "7471d622-9ac8-4222-ba95-7eab170cf9ff"
   },
   "outputs": [
    {
     "data": {
      "text/plain": [
       "DecisionTreeRegressor(max_depth=2, random_state=42)"
      ]
     },
     "execution_count": 19,
     "metadata": {},
     "output_type": "execute_result"
    }
   ],
   "source": [
    "from sklearn.tree import DecisionTreeRegressor\n",
    "\n",
    "tree_reg1 = DecisionTreeRegressor(max_depth=2, random_state=42)\n",
    "tree_reg1.fit(X, y)"
   ]
  },
  {
   "cell_type": "code",
   "execution_count": 20,
   "metadata": {
    "colab": {
     "base_uri": "https://localhost:8080/"
    },
    "executionInfo": {
     "elapsed": 674,
     "status": "ok",
     "timestamp": 1604489065302,
     "user": {
      "displayName": "BaekSop Kim",
      "photoUrl": "",
      "userId": "00248997446886296444"
     },
     "user_tz": -540
    },
    "id": "AGb1al3c_Sn4",
    "outputId": "db7de61d-eaa4-4e09-fa74-644b56a38cb2"
   },
   "outputs": [
    {
     "data": {
      "text/plain": [
       "DecisionTreeRegressor(max_depth=2, random_state=42)"
      ]
     },
     "execution_count": 20,
     "metadata": {},
     "output_type": "execute_result"
    }
   ],
   "source": [
    "y2 = y - tree_reg1.predict(X)\n",
    "tree_reg2 = DecisionTreeRegressor(max_depth=2, random_state=42)\n",
    "tree_reg2.fit(X, y2)"
   ]
  },
  {
   "cell_type": "code",
   "execution_count": 21,
   "metadata": {
    "colab": {
     "base_uri": "https://localhost:8080/"
    },
    "executionInfo": {
     "elapsed": 790,
     "status": "ok",
     "timestamp": 1604489068026,
     "user": {
      "displayName": "BaekSop Kim",
      "photoUrl": "",
      "userId": "00248997446886296444"
     },
     "user_tz": -540
    },
    "id": "812hN8Wu_Sn7",
    "outputId": "7c222371-84ac-4283-b9d2-12c5660014b3"
   },
   "outputs": [
    {
     "data": {
      "text/plain": [
       "DecisionTreeRegressor(max_depth=2, random_state=42)"
      ]
     },
     "execution_count": 21,
     "metadata": {},
     "output_type": "execute_result"
    }
   ],
   "source": [
    "y3 = y2 - tree_reg2.predict(X)\n",
    "tree_reg3 = DecisionTreeRegressor(max_depth=2, random_state=42)\n",
    "tree_reg3.fit(X, y3)"
   ]
  },
  {
   "cell_type": "code",
   "execution_count": 22,
   "metadata": {
    "colab": {
     "base_uri": "https://localhost:8080/"
    },
    "executionInfo": {
     "elapsed": 684,
     "status": "ok",
     "timestamp": 1604489069113,
     "user": {
      "displayName": "BaekSop Kim",
      "photoUrl": "",
      "userId": "00248997446886296444"
     },
     "user_tz": -540
    },
    "id": "Jw1_i8WV_SoA",
    "outputId": "2277dea3-16fe-49a0-952b-ba3d2833585a"
   },
   "outputs": [
    {
     "data": {
      "text/plain": [
       "array([0.75026781])"
      ]
     },
     "execution_count": 22,
     "metadata": {},
     "output_type": "execute_result"
    }
   ],
   "source": [
    "X_new = np.array([[0.8]])\n",
    "y_pred = sum(tree.predict(X_new) for tree in (tree_reg1, tree_reg2, tree_reg3))\n",
    "y_pred"
   ]
  },
  {
   "cell_type": "code",
   "execution_count": 23,
   "metadata": {
    "id": "dPsPf0T0_SoK"
   },
   "outputs": [],
   "source": [
    "def plot_predictions(regressors, X, y, axes, label=None, style=\"r-\", data_style=\"b.\", data_label=None):\n",
    "    x1 = np.linspace(axes[0], axes[1], 500)\n",
    "    y_pred = sum(regressor.predict(x1.reshape(-1, 1)) for regressor in regressors)\n",
    "    plt.plot(X[:, 0], y, data_style, label=data_label)\n",
    "    plt.plot(x1, y_pred, style, linewidth=2, label=label)\n",
    "    if label or data_label:\n",
    "        plt.legend(loc=\"upper center\", fontsize=16)\n",
    "    plt.axis(axes)"
   ]
  },
  {
   "cell_type": "code",
   "execution_count": 24,
   "metadata": {
    "colab": {
     "base_uri": "https://localhost:8080/",
     "height": 702
    },
    "executionInfo": {
     "elapsed": 2244,
     "status": "ok",
     "timestamp": 1604481914718,
     "user": {
      "displayName": "BaekSop Kim",
      "photoUrl": "",
      "userId": "00248997446886296444"
     },
     "user_tz": -540
    },
    "id": "YGYlpoKX_SoN",
    "outputId": "3f4f01fb-89db-4a36-e3ea-0b33493dc1e6"
   },
   "outputs": [
    {
     "data": {
      "text/plain": [
       "Text(0, 0.5, '$y$')"
      ]
     },
     "execution_count": 24,
     "metadata": {},
     "output_type": "execute_result"
    },
    {
     "data": {
      "image/png": "[encoded data removed]",
      "text/plain": [
       "<Figure size 792x792 with 6 Axes>"
      ]
     },
     "metadata": {
      "needs_background": "light"
     },
     "output_type": "display_data"
    }
   ],
   "source": [
    "plt.figure(figsize=(11,11))\n",
    "\n",
    "plt.subplot(321)\n",
    "plot_predictions([tree_reg1], X, y, axes=[-0.5, 0.5, -0.1, 0.8], label=\"$h_1(x_1)$\", style=\"g-\", data_label=\"Training set\")\n",
    "plt.ylabel(\"$y$\", fontsize=16, rotation=0)\n",
    "plt.title(\"Residuals and tree predictions\", fontsize=16)\n",
    "\n",
    "plt.subplot(322)\n",
    "plot_predictions([tree_reg1], X, y, axes=[-0.5, 0.5, -0.1, 0.8], label=\"$h(x_1) = h_1(x_1)$\", data_label=\"Training set\")\n",
    "plt.ylabel(\"$y$\", fontsize=16, rotation=0)\n",
    "plt.title(\"Ensemble predictions\", fontsize=16)\n",
    "\n",
    "plt.subplot(323)\n",
    "plot_predictions([tree_reg2], X, y2, axes=[-0.5, 0.5, -0.5, 0.5], label=\"$h_2(x_1)$\", style=\"g-\", data_style=\"k+\", data_label=\"Residuals\")\n",
    "plt.ylabel(\"$y - h_1(x_1)$\", fontsize=16)\n",
    "\n",
    "plt.subplot(324)\n",
    "plot_predictions([tree_reg1, tree_reg2], X, y, axes=[-0.5, 0.5, -0.1, 0.8], label=\"$h(x_1) = h_1(x_1) + h_2(x_1)$\")\n",
    "plt.ylabel(\"$y$\", fontsize=16, rotation=0)\n",
    "\n",
    "plt.subplot(325)\n",
    "plot_predictions([tree_reg3], X, y3, axes=[-0.5, 0.5, -0.5, 0.5], label=\"$h_3(x_1)$\", style=\"g-\", data_style=\"k+\")\n",
    "plt.ylabel(\"$y - h_1(x_1) - h_2(x_1)$\", fontsize=16)\n",
    "plt.xlabel(\"$x_1$\", fontsize=16)\n",
    "\n",
    "plt.subplot(326)\n",
    "plot_predictions([tree_reg1, tree_reg2, tree_reg3], X, y, axes=[-0.5, 0.5, -0.1, 0.8], label=\"$h(x_1) = h_1(x_1) + h_2(x_1) + h_3(x_1)$\")\n",
    "plt.xlabel(\"$x_1$\", fontsize=16)\n",
    "plt.ylabel(\"$y$\", fontsize=16, rotation=0)\n",
    "\n"
   ]
  },
  {
   "cell_type": "code",
   "execution_count": 25,
   "metadata": {
    "colab": {
     "base_uri": "https://localhost:8080/"
    },
    "executionInfo": {
     "elapsed": 270,
     "status": "ok",
     "timestamp": 1669076646711,
     "user": {
      "displayName": "BaekSop Kim",
      "userId": "00248997446886296444"
     },
     "user_tz": -540
    },
    "id": "6Zznjk1J_SoQ",
    "outputId": "1f56013c-d3c6-4ebb-b15b-e821a0be47a8"
   },
   "outputs": [
    {
     "data": {
      "text/plain": [
       "GradientBoostingRegressor(learning_rate=1.0, max_depth=2, n_estimators=3,\n",
       "                          random_state=42)"
      ]
     },
     "execution_count": 25,
     "metadata": {},
     "output_type": "execute_result"
    }
   ],
   "source": [
    "from sklearn.ensemble import GradientBoostingRegressor\n",
    "\n",
    "gbrt = GradientBoostingRegressor(max_depth=2, n_estimators=3, learning_rate=1.0, random_state=42)\n",
    "gbrt.fit(X, y)"
   ]
  },
  {
   "cell_type": "code",
   "execution_count": 26,
   "metadata": {
    "colab": {
     "base_uri": "https://localhost:8080/"
    },
    "executionInfo": {
     "elapsed": 306,
     "status": "ok",
     "timestamp": 1669076650528,
     "user": {
      "displayName": "BaekSop Kim",
      "userId": "00248997446886296444"
     },
     "user_tz": -540
    },
    "id": "Eb7m_7L-_SoS",
    "outputId": "f80d14cd-e1f8-402c-8ada-cc83edabd357"
   },
   "outputs": [
    {
     "data": {
      "text/plain": [
       "GradientBoostingRegressor(max_depth=2, n_estimators=200, random_state=42)"
      ]
     },
     "execution_count": 26,
     "metadata": {},
     "output_type": "execute_result"
    }
   ],
   "source": [
    "gbrt_slow = GradientBoostingRegressor(max_depth=2, n_estimators=200, learning_rate=0.1, random_state=42)\n",
    "gbrt_slow.fit(X, y)"
   ]
  },
  {
   "cell_type": "code",
   "execution_count": 27,
   "metadata": {
    "colab": {
     "base_uri": "https://localhost:8080/",
     "height": 323
    },
    "executionInfo": {
     "elapsed": 401,
     "status": "ok",
     "timestamp": 1669076653922,
     "user": {
      "displayName": "BaekSop Kim",
      "userId": "00248997446886296444"
     },
     "user_tz": -540
    },
    "id": "wiSBlRDU_SoW",
    "outputId": "7bcd1529-4a66-41db-ced2-bc0ccd72a409"
   },
   "outputs": [
    {
     "data": {
      "text/plain": [
       "Text(0.5, 0, '$x_1$')"
      ]
     },
     "execution_count": 27,
     "metadata": {},
     "output_type": "execute_result"
    },
    {
     "data": {
      "image/png": "[encoded data removed]",
      "text/plain": [
       "<Figure size 720x288 with 2 Axes>"
      ]
     },
     "metadata": {
      "needs_background": "light"
     },
     "output_type": "display_data"
    }
   ],
   "source": [
    "fix, axes = plt.subplots(ncols=2, figsize=(10,4), sharey=True)\n",
    "\n",
    "plt.sca(axes[0])\n",
    "plot_predictions([gbrt], X, y, axes=[-0.5, 0.5, -0.1, 0.8], label=\"Ensemble predictions\")\n",
    "plt.title(\"learning_rate={}, n_estimators={}\".format(gbrt.learning_rate, gbrt.n_estimators), fontsize=14)\n",
    "plt.xlabel(\"$x_1$\", fontsize=16)\n",
    "plt.ylabel(\"$y$\", fontsize=16, rotation=0)\n",
    "\n",
    "plt.sca(axes[1])\n",
    "plot_predictions([gbrt_slow], X, y, axes=[-0.5, 0.5, -0.1, 0.8])\n",
    "plt.title(\"learning_rate={}, n_estimators={}\".format(gbrt_slow.learning_rate, gbrt_slow.n_estimators), fontsize=14)\n",
    "plt.xlabel(\"$x_1$\", fontsize=16)\n"
   ]
  },
  {
   "cell_type": "markdown",
   "metadata": {
    "id": "n5OQk2MgpoIT"
   },
   "source": [
    "# <font color=red> 과제 : GradientBoostRegressor에서 최적의 n_estimater찾기 </font>\n",
    "- 아래와 같이 n_estimator에 따른 학습오차와 검증오차의 변화를 그리고\n",
    "- 검증오차가 최소화되는 n_estimator값을 찾아라"
   ]
  },
  {
   "cell_type": "code",
   "execution_count": 42,
   "metadata": {
    "scrolled": true
   },
   "outputs": [
    {
     "name": "stdout",
     "output_type": "stream",
     "text": [
      "n_estimator=1, training_error=0.05014778466687881, validation_error=0.03976434066090687\n",
      "n_estimator=2, training_error=0.04230293098773478, validation_error=0.03301153878946109\n",
      "n_estimator=3, training_error=0.035915798324299454, validation_error=0.027663386192027795\n",
      "n_estimator=4, training_error=0.03053631767648031, validation_error=0.023337263188229852\n",
      "n_estimator=5, training_error=0.026570666766095877, validation_error=0.020390590545872743\n",
      "n_estimator=6, training_error=0.022857320666617883, validation_error=0.017820174421765502\n",
      "n_estimator=7, training_error=0.01966190895985457, validation_error=0.015262814214454865\n",
      "n_estimator=8, training_error=0.01697774409967647, validation_error=0.013228529533567415\n",
      "n_estimator=9, training_error=0.014721027171218768, validation_error=0.011758450328306618\n",
      "n_estimator=10, training_error=0.012919451796451074, validation_error=0.010288335529306629\n",
      "n_estimator=11, training_error=0.011511761061518234, validation_error=0.009391268210618017\n",
      "n_estimator=12, training_error=0.010185748231447755, validation_error=0.008605826199167754\n",
      "n_estimator=13, training_error=0.009039599835039526, validation_error=0.007745553291052828\n",
      "n_estimator=14, training_error=0.008111219633948865, validation_error=0.007083571270654957\n",
      "n_estimator=15, training_error=0.007388357216407519, validation_error=0.006766296135021012\n",
      "n_estimator=16, training_error=0.006542027536714087, validation_error=0.006116142333014483\n",
      "n_estimator=17, training_error=0.005975190990563216, validation_error=0.005770219779341232\n",
      "n_estimator=18, training_error=0.005461108373533615, validation_error=0.005416351332327169\n",
      "n_estimator=19, training_error=0.004985556107485903, validation_error=0.0050727394710244665\n",
      "n_estimator=20, training_error=0.004554673437984194, validation_error=0.0048159263120028765\n",
      "n_estimator=21, training_error=0.004012157592568705, validation_error=0.004357591913537005\n",
      "n_estimator=22, training_error=0.003705773230831851, validation_error=0.004192866645244622\n",
      "n_estimator=23, training_error=0.0033387926817897515, validation_error=0.0039670672414243964\n",
      "n_estimator=24, training_error=0.0031194656395993835, validation_error=0.0038463154458755833\n",
      "n_estimator=25, training_error=0.0028637051286540772, validation_error=0.0037468374981679863\n",
      "n_estimator=26, training_error=0.0025844870298732236, validation_error=0.003530909744387239\n",
      "n_estimator=27, training_error=0.0024220280043346504, validation_error=0.0034677533859285626\n",
      "n_estimator=28, training_error=0.002280990345573686, validation_error=0.0033882676886440523\n",
      "n_estimator=29, training_error=0.002064940407002032, validation_error=0.003224220772589744\n",
      "n_estimator=30, training_error=0.001961476982254674, validation_error=0.0031883136637545035\n",
      "n_estimator=31, training_error=0.0018628057796943132, validation_error=0.003166151135979498\n",
      "n_estimator=32, training_error=0.001724764975980425, validation_error=0.003072276914292378\n",
      "n_estimator=33, training_error=0.001653243459876446, validation_error=0.003024919266015998\n",
      "n_estimator=34, training_error=0.0015817618985448465, validation_error=0.002991089248190895\n",
      "n_estimator=35, training_error=0.0014948669978697737, validation_error=0.002957301355498197\n",
      "n_estimator=36, training_error=0.001400207983053234, validation_error=0.0028890741785044197\n",
      "n_estimator=37, training_error=0.0013534767117368057, validation_error=0.0028849656803361795\n",
      "n_estimator=38, training_error=0.001301154573951783, validation_error=0.0028902935070124736\n",
      "n_estimator=39, training_error=0.0012385090300860958, validation_error=0.002836717946434534\n",
      "n_estimator=40, training_error=0.0012064734701141098, validation_error=0.0028151139950619727\n",
      "n_estimator=41, training_error=0.001162626421142418, validation_error=0.002805906789900023\n",
      "n_estimator=42, training_error=0.0011100456807487053, validation_error=0.002769821491376303\n",
      "n_estimator=43, training_error=0.0010879581842084237, validation_error=0.002775136129921357\n",
      "n_estimator=44, training_error=0.001068509946654407, validation_error=0.002778984340830943\n",
      "n_estimator=45, training_error=0.001014390925765244, validation_error=0.0027422856408325373\n",
      "n_estimator=46, training_error=0.0009991609503041316, validation_error=0.002735774633470487\n",
      "n_estimator=47, training_error=0.0009842439644551068, validation_error=0.0027433438627545155\n",
      "n_estimator=48, training_error=0.0009527088363615325, validation_error=0.002729985019758056\n",
      "n_estimator=49, training_error=0.0009421823968660971, validation_error=0.002739928056372175\n",
      "n_estimator=50, training_error=0.0009314560460500615, validation_error=0.002745683538485092\n",
      "n_estimator=51, training_error=0.0009108920218126362, validation_error=0.002737002470147249\n",
      "n_estimator=52, training_error=0.0008788334007839223, validation_error=0.0027205012064232207\n",
      "n_estimator=53, training_error=0.0008707102125490133, validation_error=0.0027176421276560465\n",
      "n_estimator=54, training_error=0.0008621458732041112, validation_error=0.0027195073111332528\n",
      "n_estimator=55, training_error=0.000850005247659905, validation_error=0.00272625716783103\n",
      "n_estimator=56, training_error=0.0008335913229789857, validation_error=0.002712853325235463\n",
      "n_estimator=57, training_error=0.0008254240949959105, validation_error=0.002719454272122578\n",
      "n_estimator=58, training_error=0.0008123024185949403, validation_error=0.0027133799581649065\n",
      "n_estimator=59, training_error=0.0008067459752374358, validation_error=0.0027221277186536084\n",
      "n_estimator=60, training_error=0.0007951122635623816, validation_error=0.0027136110678215226\n",
      "n_estimator=61, training_error=0.0007912717232591495, validation_error=0.002721390321329206\n",
      "n_estimator=62, training_error=0.0007881316442704946, validation_error=0.002727457790609339\n",
      "n_estimator=63, training_error=0.0007837152545081155, validation_error=0.0027300147170107665\n",
      "n_estimator=64, training_error=0.0007705104208514188, validation_error=0.002729908831730527\n",
      "n_estimator=65, training_error=0.0007641158671766099, validation_error=0.0027358302544901853\n",
      "n_estimator=66, training_error=0.0007599784044513915, validation_error=0.002744395636505983\n",
      "n_estimator=67, training_error=0.0007575036045544549, validation_error=0.002745122731954931\n",
      "n_estimator=68, training_error=0.0007519322432057166, validation_error=0.002744165242686241\n",
      "n_estimator=69, training_error=0.0007424042756202265, validation_error=0.002741907063104868\n",
      "n_estimator=70, training_error=0.0007402566600573521, validation_error=0.0027481172572242905\n",
      "n_estimator=71, training_error=0.0007383107155379526, validation_error=0.002751370796378544\n",
      "n_estimator=72, training_error=0.0007317294476471009, validation_error=0.002756162003517299\n",
      "n_estimator=73, training_error=0.0007268145166673195, validation_error=0.0028028310474783004\n",
      "n_estimator=74, training_error=0.0007241112901856566, validation_error=0.0028034394654873522\n",
      "n_estimator=75, training_error=0.0007222083148450635, validation_error=0.002806697208580324\n",
      "n_estimator=76, training_error=0.0007190730892956648, validation_error=0.0028149750624770374\n",
      "n_estimator=77, training_error=0.0007145731835065085, validation_error=0.0028122048504556373\n",
      "n_estimator=78, training_error=0.0007102027408613332, validation_error=0.0028173756645450292\n",
      "n_estimator=79, training_error=0.0007000265510531303, validation_error=0.0028175363158829455\n",
      "n_estimator=80, training_error=0.0006824259909922734, validation_error=0.0028248598703382445\n",
      "n_estimator=81, training_error=0.0006772081515743284, validation_error=0.002816677992930967\n",
      "n_estimator=82, training_error=0.0006731180972024789, validation_error=0.0028166098484642727\n",
      "n_estimator=83, training_error=0.0006720142261872504, validation_error=0.0028172375938489095\n",
      "n_estimator=84, training_error=0.0006692637838911524, validation_error=0.002815396659435111\n",
      "n_estimator=85, training_error=0.0006583118512523254, validation_error=0.0028153584875407083\n",
      "n_estimator=86, training_error=0.0006571690277320871, validation_error=0.002815234429965577\n",
      "n_estimator=87, training_error=0.0006557385711123575, validation_error=0.002817993283293155\n",
      "n_estimator=88, training_error=0.0006484790341214009, validation_error=0.0028160726638717516\n",
      "n_estimator=89, training_error=0.000643596523447572, validation_error=0.0028246142042300687\n",
      "n_estimator=90, training_error=0.000635534021683492, validation_error=0.0028244853303130424\n",
      "n_estimator=91, training_error=0.0006322801242250125, validation_error=0.002832350975280021\n",
      "n_estimator=92, training_error=0.0006187821141836275, validation_error=0.002844217427916206\n",
      "n_estimator=93, training_error=0.0006170602344673815, validation_error=0.0028419637479271623\n",
      "n_estimator=94, training_error=0.0006083259186759634, validation_error=0.002841935716088016\n",
      "n_estimator=95, training_error=0.000603338874093011, validation_error=0.0028537596469327513\n",
      "n_estimator=96, training_error=0.0005909609361230002, validation_error=0.002860154320302627\n",
      "n_estimator=97, training_error=0.0005845025070660267, validation_error=0.0028601544553410376\n",
      "n_estimator=98, training_error=0.0005805789877272431, validation_error=0.002853002662673162\n",
      "n_estimator=99, training_error=0.0005781227764721887, validation_error=0.0028609720922830265\n",
      "n_estimator=100, training_error=0.0005685308514646408, validation_error=0.0028728214372896244\n"
     ]
    }
   ],
   "source": [
    "# 과제 프로그램\n",
    "import numpy as np\n",
    "from sklearn.model_selection import train_test_split\n",
    "from sklearn.metrics import mean_squared_error\n",
    "\n",
    "X_train, X_val, y_train, y_val = train_test_split(X, y, random_state=49)\n",
    "\n",
    "gbrt = GradientBoostingRegressor(max_depth=2, n_estimators=100, random_state=42)\n",
    "gbrt.fit(X_train, y_train)\n",
    "\n",
    "class Error:\n",
    "    def __init__(self, n, t, v):\n",
    "        self.n_estimator = n\n",
    "        self.train = t\n",
    "        self.valid = v\n",
    "    \n",
    "    def __str__(self):\n",
    "        return f'n_estimator={self.n_estimator}, training_error={self.train}, validation_error={self.valid}'\n",
    "    \n",
    "i = 1\n",
    "errors = []\n",
    "for train_pred, valid_pred in zip(gbrt.staged_predict(X_train), gbrt.staged_predict(X_val)) :  # staged_predict() : 각 단계별 predict()\n",
    "  t = mean_squared_error(y_train, train_pred)\n",
    "  v = mean_squared_error(y_val, valid_pred)\n",
    "  errors.append(Error(i, t, v))\n",
    "  i += 1\n",
    "\n",
    "for error in errors:\n",
    "    print(error)"
   ]
  },
  {
   "cell_type": "code",
   "execution_count": 45,
   "metadata": {},
   "outputs": [
    {
     "name": "stdout",
     "output_type": "stream",
     "text": [
      "n_estimator=56, training_error=0.0008335913229789857, validation_error=0.002712853325235463\n"
     ]
    }
   ],
   "source": [
    "print(min(errors, key = lambda e: e.valid))"
   ]
  },
  {
   "cell_type": "code",
   "execution_count": 56,
   "metadata": {
    "colab": {
     "base_uri": "https://localhost:8080/",
     "height": 321
    },
    "executionInfo": {
     "elapsed": 1165,
     "status": "ok",
     "timestamp": 1669079951780,
     "user": {
      "displayName": "BaekSop Kim",
      "userId": "00248997446886296444"
     },
     "user_tz": -540
    },
    "id": "zx32Z0Tf5gFK",
    "outputId": "36e64f99-16af-48ed-81de-3bfe908dad65",
    "scrolled": true
   },
   "outputs": [
    {
     "data": {
      "image/png": "[encoded data removed]",
      "text/plain": [
       "<Figure size 432x288 with 1 Axes>"
      ]
     },
     "metadata": {
      "needs_background": "light"
     },
     "output_type": "display_data"
    }
   ],
   "source": [
    "# 과제 프로그램\n",
    "def error_plot(errors: list):\n",
    "    trains = []\n",
    "    valids = []\n",
    "    for error in errors:\n",
    "        trains.append(error.train)\n",
    "        valids.append(error.valid)\n",
    "    \n",
    "    plt.plot(trains, color = 'black')\n",
    "    plt.plot(valids, color='red')\n",
    "    plt.ylim(0, 0.01)\n",
    "    plt.title('Validation error')\n",
    "    plt.ylabel('Error')\n",
    "    plt.xlabel('Number of trees')\n",
    "    error = min(errors, key = lambda e: e.valid)\n",
    "    plt.axvline(x=error.n_estimator + 1, color='black', ymax=error.valid * 100, ls='--')\n",
    "error_plot(errors)"
   ]
  }
 ],
 "metadata": {
  "colab": {
   "collapsed_sections": [
    "Z0JdqJ07_SnK",
    "KVWeLi7z_SnY"
   ],
   "provenance": []
  },
  "kernelspec": {
   "display_name": "Python 3 (ipykernel)",
   "language": "python",
   "name": "python3"
  },
  "language_info": {
   "codemirror_mode": {
    "name": "ipython",
    "version": 3
   },
   "file_extension": ".py",
   "mimetype": "text/x-python",
   "name": "python",
   "nbconvert_exporter": "python",
   "pygments_lexer": "ipython3",
   "version": "3.9.7"
  },
  "nav_menu": {
   "height": "252px",
   "width": "333px"
  },
  "toc": {
   "navigate_menu": true,
   "number_sections": true,
   "sideBar": true,
   "threshold": 6,
   "toc_cell": false,
   "toc_section_display": "block",
   "toc_window_display": false
  }
 },
 "nbformat": 4,
 "nbformat_minor": 1
}
