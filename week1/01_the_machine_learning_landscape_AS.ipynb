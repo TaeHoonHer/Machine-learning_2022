{
 "cells": [
  {
   "cell_type": "markdown",
   "metadata": {},
   "source": [
    "**1장 – 한 눈에 보는 머신러닝**\n",
    "\n",
    "_이 노트북은 1장의 그림을 만들기 위한 것입니다._"
   ]
  },
  {
   "cell_type": "markdown",
   "metadata": {},
   "source": [
    "<table align=\"left\">\n",
    "  <td>\n",
    "    <a target=\"_blank\" href=\"https://colab.research.google.com/github/rickiepark/handson-ml2/blob/master/01_the_machine_learning_landscape.ipynb\"><img src=\"https://www.tensorflow.org/images/colab_logo_32px.png\" />구글 코랩에서 실행하기</a>\n",
    "  </td>\n",
    "</table>"
   ]
  },
  {
   "cell_type": "markdown",
   "metadata": {},
   "source": [
    "# 예제 1-1"
   ]
  },
  {
   "cell_type": "markdown",
   "metadata": {},
   "source": [
    "파이썬 2.x도 사용할 수 있지만 향후 이 버전은 더이상 지원되지 않습니다. 대신 파이썬 3을 사용세요.\n",
    "\n",
    "_번역서의 깃허브는 파이썬 3.7, 사이킷런 0.22.2에서 테스트했습니다._"
   ]
  },
  {
   "cell_type": "code",
   "execution_count": 2,
   "metadata": {
    "slideshow": {
     "slide_type": "-"
    }
   },
   "outputs": [],
   "source": [
    "# Python ≥3.5 이상이 권장됩니다\n",
    "import sys\n",
    "assert sys.version_info >= (3, 5)"
   ]
  },
  {
   "cell_type": "code",
   "execution_count": 3,
   "metadata": {},
   "outputs": [],
   "source": [
    "# Scikit-Learn ≥0.20 이상이 권장됩니다\n",
    "import sklearn\n",
    "assert sklearn.__version__ >= \"0.20\""
   ]
  },
  {
   "cell_type": "markdown",
   "metadata": {},
   "source": [
    "이 함수는 OECD의 삶의 만족도(life satisfaction) 데이터와 IMF의 1인당 GDP(GDP per capita) 데이터를 합칩니다. 이는 번거로운 작업이고 머신러닝과는 관계가 없기 때문에 책 안에 포함시키지 않았습니다."
   ]
  },
  {
   "cell_type": "code",
   "execution_count": 4,
   "metadata": {},
   "outputs": [],
   "source": [
    "def prepare_country_stats(oecd_bli, gdp_per_capita):\n",
    "    oecd_bli = oecd_bli[oecd_bli[\"INEQUALITY\"]==\"TOT\"]\n",
    "    oecd_bli = oecd_bli.pivot(index=\"Country\", columns=\"Indicator\", values=\"Value\")\n",
    "    gdp_per_capita.rename(columns={\"2015\": \"GDP per capita\"}, inplace=True)\n",
    "    gdp_per_capita.set_index(\"Country\", inplace=True)\n",
    "    full_country_stats = pd.merge(left=oecd_bli, right=gdp_per_capita,\n",
    "                                  left_index=True, right_index=True)\n",
    "    full_country_stats.sort_values(by=\"GDP per capita\", inplace=True)\n",
    "    remove_indices = [0, 1, 6, 8, 33, 34, 35]\n",
    "    keep_indices = list(set(range(36)) - set(remove_indices))\n",
    "    return full_country_stats[[\"GDP per capita\", 'Life satisfaction']].iloc[keep_indices]"
   ]
  },
  {
   "cell_type": "markdown",
   "metadata": {},
   "source": [
    "책에 있는 코드는 데이터 파일이 현재 디렉토리에 있다고 가정합니다. 여기에서는 datasets/lifesat 안에서 파일을 읽어 들입니다."
   ]
  },
  {
   "cell_type": "code",
   "execution_count": 5,
   "metadata": {},
   "outputs": [],
   "source": [
    "import os\n",
    "datapath = os.path.join(\"datasets\", \"lifesat\", \"\")"
   ]
  },
  {
   "cell_type": "code",
   "execution_count": 6,
   "metadata": {},
   "outputs": [],
   "source": [
    "# 주피터에 그래프를 깔끔하게 그리기 위해서\n",
    "%matplotlib inline\n",
    "import matplotlib as mpl\n",
    "mpl.rc('axes', labelsize=14)\n",
    "mpl.rc('xtick', labelsize=12)\n",
    "mpl.rc('ytick', labelsize=12)"
   ]
  },
  {
   "cell_type": "code",
   "execution_count": 7,
   "metadata": {},
   "outputs": [
    {
     "name": "stdout",
     "output_type": "stream",
     "text": [
      "Downloading oecd_bli_2015.csv\n",
      "Downloading gdp_per_capita.csv\n"
     ]
    }
   ],
   "source": [
    "# 데이터 다운로드\n",
    "import urllib\n",
    "DOWNLOAD_ROOT = \"https://raw.githubusercontent.com/rickiepark/handson-ml2/master/\"\n",
    "os.makedirs(datapath, exist_ok=True)\n",
    "for filename in (\"oecd_bli_2015.csv\", \"gdp_per_capita.csv\"):\n",
    "    if not os.path.exists(datapath+filename) :\n",
    "        print(\"Downloading\", filename)\n",
    "        url = DOWNLOAD_ROOT + \"datasets/lifesat/\" + filename\n",
    "        urllib.request.urlretrieve(url, datapath + filename)\n",
    "    else :\n",
    "        print('{} exists'.format(datapath+filename))"
   ]
  },
  {
   "cell_type": "code",
   "execution_count": 8,
   "metadata": {},
   "outputs": [
    {
     "name": "stdout",
     "output_type": "stream",
     "text": [
      "[    0.    6666.67 13333.33 20000.   26666.67 33333.33 40000.   46666.67\n",
      " 53333.33 60000.  ] <class 'numpy.ndarray'> (10,) 1\n",
      "[[    0.  ]\n",
      " [ 6666.67]\n",
      " [13333.33]\n",
      " [20000.  ]\n",
      " [26666.67]\n",
      " [33333.33]\n",
      " [40000.  ]\n",
      " [46666.67]\n",
      " [53333.33]\n",
      " [60000.  ]] <class 'numpy.ndarray'> (10, 1) 2\n",
      "[[4.85]\n",
      " [5.18]\n",
      " [5.51]\n",
      " [5.84]\n",
      " [6.16]\n",
      " [6.49]\n",
      " [6.82]\n",
      " [7.15]\n",
      " [7.47]\n",
      " [7.8 ]] <class 'numpy.ndarray'> (10, 1) 2\n"
     ]
    },
    {
     "data": {
      "image/png": "[encoded data removed]",
      "text/plain": [
       "<Figure size 432x288 with 1 Axes>"
      ]
     },
     "metadata": {
      "needs_background": "light"
     },
     "output_type": "display_data"
    }
   ],
   "source": [
    "# 예제 코드\n",
    "import matplotlib.pyplot as plt\n",
    "import numpy as np\n",
    "import pandas as pd\n",
    "import sklearn.linear_model\n",
    "\n",
    "np.set_printoptions(2) # 소숫점이하 3자리까미만 인쇄\n",
    "\n",
    "# 데이터 적재\n",
    "oecd_bli = pd.read_csv(datapath + \"oecd_bli_2015.csv\", thousands=',')\n",
    "gdp_per_capita = pd.read_csv(datapath + \"gdp_per_capita.csv\",thousands=',',delimiter='\\t',\n",
    "                             encoding='latin1', na_values=\"n/a\")\n",
    "\n",
    "# 데이터 준비\n",
    "country_stats = prepare_country_stats(oecd_bli, gdp_per_capita)\n",
    "X = np.c_[country_stats[\"GDP per capita\"]]\n",
    "y = np.c_[country_stats[\"Life satisfaction\"]]\n",
    "\n",
    "# 선형 모델 선택\n",
    "model = sklearn.linear_model.LinearRegression()\n",
    "\n",
    "# 모델 훈련\n",
    "model.fit(X, y)\n",
    "\n",
    "# 데이터 시각화\n",
    "plt.scatter(X, y)\n",
    "plt.axis([0, 60000, 4, 8])\n",
    "\n",
    "# 회귀함수 그리기\n",
    "X1 = np.linspace(0, 60000, 10)\n",
    "print(X1, type(X1), X1.shape, X1.ndim)  # 1D array\n",
    "X2 = X1.reshape((-1, 1))     # 2D array\n",
    "print(X2, type(X2), X2.shape, X2.ndim)\n",
    "y_pred = model.predict(X2)\n",
    "print(y_pred, type(y_pred), y_pred.shape, y_pred.ndim)\n",
    "plt.plot(X2, y_pred)\n",
    "\n",
    "plt.show()"
   ]
  },
  {
   "cell_type": "code",
   "execution_count": 33,
   "metadata": {},
   "outputs": [
    {
     "name": "stdout",
     "output_type": "stream",
     "text": [
      "[[5.77]]\n",
      "X_new : <class 'list'> \n",
      " [[22587]]\n",
      "X_new_arr : <class 'numpy.ndarray'> \n",
      " [[22587]]\n"
     ]
    }
   ],
   "source": [
    "# 키프로스에 대한 예측\n",
    "X_new = [[22587]]  # 키프로스 1인당 GDP\n",
    "print(model.predict(X_new)) # 출력 [[ 5.96242338]]\n",
    "\n",
    "X_new_arr = np.array(X_new)\n",
    "print('X_new :', type(X_new), '\\n', X_new)\n",
    "print('X_new_arr :', type(X_new_arr), '\\n', X_new_arr)\n"
   ]
  },
  {
   "cell_type": "markdown",
   "metadata": {},
   "source": [
    "## Assignment\n",
    "```\n",
    "1) 다음 각각의 type을 적어라.  array인 경우는 차원(dimension)도 적기 바람.\n",
    "  a) a = [1000]\n",
    "  ==> list\n",
    "      \n",
    "  b) b = [[1000]]\n",
    "  ==> list\n",
    "      \n",
    "  c) c = np.array(a)\n",
    "  ==> array, 1차원\n",
    "  \n",
    "  d) d = np.array(b)\n",
    "  ==> array, 2차원\n",
    "\n",
    "2) 다음 코드 수행 결과는?  에러가 나오면 왜 그런지, 어떻게 고쳐야하는지 적어라\n",
    "X_new = [22587]  # 키프로스 1인당 GDP\n",
    "print(model.predict(X_new)) \n",
    "\n",
    "==> 에러 발생\n",
    "    수정 방법 : X_new = [[22587]]로 코드를 수정해야합니다\n",
    "    수정 이유 : 1차원이 아닌, 다차원 배열로 코드를 작성해야한다\n",
    "\n",
    "3) 위 프로그램에서 다음 명령어의 역활은 무엇인가?\n",
    "X2 = X1.reshape((-1, 1))     # 2D array\n",
    "\n",
    "==> X1 배열의 차원(Dimension)을 재구조화, 변경하고자 reshape() 메소드를 사용합니다.\n",
    "    .reshape을 통해 재구조화된 배열을 X2안에 넣습니다\n",
    "\n",
    "4) k-최근접 이웃 회귀 모델(아래 참조)로 바꿔 회귀선을 그려랴\n",
    "import sklearn.neighbors\n",
    "model = sklearn.neighbors.KNeighborsRegressor(n_neighbors=3)\n",
    "\n",
    "print(X.shape, y.shape)\n",
    "model.fit(X, y)\n",
    "\n",
    "==> 다음 코드에 작성\n",
    "\n",
    "*** 풀이 결과는 pdf파일로 바꿔 smartLEAD에 제출하기 바람.\n",
    "참고 : browser에서 인쇄(오른쪽위 ... 표시) / pdf로 인쇄\n",
    "https://mljar.com/blog/jupyter-notebook-pdf/\n",
    "```"
   ]
  },
  {
   "cell_type": "code",
   "execution_count": 48,
   "metadata": {
    "scrolled": false
   },
   "outputs": [
    {
     "name": "stdout",
     "output_type": "stream",
     "text": [
      "(29, 1) (29, 1)\n",
      "[    0.    6666.67 13333.33 20000.   26666.67 33333.33 40000.   46666.67\n",
      " 53333.33 60000.  ] <class 'numpy.ndarray'> (10,) 1\n",
      "[[    0.  ]\n",
      " [ 6666.67]\n",
      " [13333.33]\n",
      " [20000.  ]\n",
      " [26666.67]\n",
      " [33333.33]\n",
      " [40000.  ]\n",
      " [46666.67]\n",
      " [53333.33]\n",
      " [60000.  ]] <class 'numpy.ndarray'> (10, 1) 2\n",
      "[[5.5 ]\n",
      " [5.5 ]\n",
      " [5.6 ]\n",
      " [5.2 ]\n",
      " [6.1 ]\n",
      " [6.43]\n",
      " [7.1 ]\n",
      " [7.  ]\n",
      " [7.27]\n",
      " [7.23]] <class 'numpy.ndarray'> (10, 1) 2\n"
     ]
    },
    {
     "data": {
      "image/png": "[encoded data removed]",
      "text/plain": [
       "<Figure size 432x288 with 1 Axes>"
      ]
     },
     "metadata": {
      "needs_background": "light"
     },
     "output_type": "display_data"
    }
   ],
   "source": [
    "##문제 4\n",
    "\n",
    "import matplotlib.pyplot as plt\n",
    "import numpy as np\n",
    "import pandas as pd\n",
    "import sklearn.linear_model\n",
    "import sklearn.neighbors\n",
    "\n",
    "np.set_printoptions(2) # 소숫점이하 3자리까미만 인쇄\n",
    "\n",
    "# 데이터 적재\n",
    "oecd_bli = pd.read_csv(datapath + \"oecd_bli_2015.csv\", thousands=',')\n",
    "gdp_per_capita = pd.read_csv(datapath + \"gdp_per_capita.csv\",thousands=',',delimiter='\\t',\n",
    "                             encoding='latin1', na_values=\"n/a\")\n",
    "\n",
    "# 데이터 준비\n",
    "country_stats = prepare_country_stats(oecd_bli, gdp_per_capita)\n",
    "X = np.c_[country_stats[\"GDP per capita\"]]\n",
    "y = np.c_[country_stats[\"Life satisfaction\"]]\n",
    "\n",
    "# 선형 모델 선택\n",
    "model = sklearn.neighbors.KNeighborsRegressor(n_neighbors=3)\n",
    "\n",
    "# 모델 훈련\n",
    "print(X.shape, y.shape)\n",
    "model.fit(X, y)\n",
    "\n",
    "# 데이터 시각화\n",
    "plt.scatter(X, y)\n",
    "plt.axis([0, 60000, 4, 8])\n",
    "\n",
    "# 회귀함수 그리기\n",
    "X1 = np.linspace(0, 60000, 10)\n",
    "print(X1, type(X1), X1.shape, X1.ndim)  # 1D array\n",
    "X2 = X1.reshape((-1, 1))     # 2D array\n",
    "print(X2, type(X2), X2.shape, X2.ndim)\n",
    "y_pred = model.predict(X2)\n",
    "print(y_pred, type(y_pred), y_pred.shape, y_pred.ndim)\n",
    "plt.plot(X2, y_pred)\n",
    "\n",
    "plt.show()"
   ]
  }
 ],
 "metadata": {
  "kernelspec": {
   "display_name": "Python 3 (ipykernel)",
   "language": "python",
   "name": "python3"
  },
  "language_info": {
   "codemirror_mode": {
    "name": "ipython",
    "version": 3
   },
   "file_extension": ".py",
   "mimetype": "text/x-python",
   "name": "python",
   "nbconvert_exporter": "python",
   "pygments_lexer": "ipython3",
   "version": "3.9.7"
  },
  "nav_menu": {},
  "toc": {
   "navigate_menu": true,
   "number_sections": true,
   "sideBar": true,
   "threshold": 6,
   "toc_cell": false,
   "toc_section_display": "block",
   "toc_window_display": true
  },
  "toc_position": {
   "height": "616px",
   "left": "0px",
   "right": "20px",
   "top": "106px",
   "width": "213px"
  },
  "vscode": {
   "interpreter": {
    "hash": "e3a520dba6444c40d66438411264a98551b1dca5ebeec9a352430651931b9c5a"
   }
  }
 },
 "nbformat": 4,
 "nbformat_minor": 1
}
